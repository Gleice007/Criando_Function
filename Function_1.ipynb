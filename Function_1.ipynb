{
 "cells": [
  {
   "cell_type": "markdown",
   "id": "e441703d-a11c-4b67-9e75-a6e387899b15",
   "metadata": {},
   "source": [
    "# Function Python\n",
    "\n",
    "## O que é ?\n",
    "As functions são blocos de código que servem 1 único propósito, fazem uma ação específica.\n",
    "\n",
    "## Estrutura Básica"
   ]
  },
  {
   "cell_type": "markdown",
   "id": "85ce9c44-a4bd-4e04-91aa-4be73f680814",
   "metadata": {},
   "source": [
    "def nome_funcao():\n",
    "    faça alguma coisa\n",
    "    faça outra coisa\n",
    "    return valor_final"
   ]
  },
  {
   "cell_type": "markdown",
   "id": "653228ea-0ca2-434f-a602-c2c32d5ff530",
   "metadata": {},
   "source": [
    " . Exemplo: vamos criar uma função de cadastro de um Produto. Essa função deve garantir que o produto cadastro\n",
    " está em letra minúscula."
   ]
  },
  {
   "cell_type": "code",
   "execution_count": 3,
   "id": "7bc24395-f614-44af-9c3f-30be9d2df385",
   "metadata": {},
   "outputs": [],
   "source": [
    "def cadastrar_produto():\n",
    "    produto = input('Digite o nome do produto:')\n",
    "    produto = produto.casefold()\n",
    "    print('Produto {} cadastrado com sucesso'.format(produto))"
   ]
  },
  {
   "cell_type": "markdown",
   "id": "6598ae38-f061-472b-b521-9876f3c0490a",
   "metadata": {},
   "source": [
    "cadastrar_produto()"
   ]
  },
  {
   "cell_type": "markdown",
   "id": "ee05b928-df88-40e2-98ba-3f037ac1b2d0",
   "metadata": {},
   "source": [
    "# Retorna um valor na Function Python\n",
    "\n",
    "## Estrutura Básica"
   ]
  },
  {
   "cell_type": "code",
   "execution_count": 9,
   "id": "e71405b8-0f34-4107-a937-b658467dc137",
   "metadata": {},
   "outputs": [],
   "source": [
    "def nome_funcao():\n",
    "    return valor_final"
   ]
  },
  {
   "cell_type": "markdown",
   "id": "c54da39a-7362-4ccf-a857-5030cd845ee6",
   "metadata": {},
   "source": [
    ". Exemplo: vamos criar uma função de cadastro de um Produto. Essa função deve garantir que o produto cadastro está \n",
    "em letra minúscula."
   ]
  },
  {
   "cell_type": "markdown",
   "id": "eb2a9c01-37b5-4d6e-a25d-55760c2491f8",
   "metadata": {},
   "source": [
    "def cadastrar_produto():\n",
    "    produto = input('Digite o nome do produto que deseja cadastrar')\n",
    "    produto = produto.casefold()\n",
    "    produto = produto.strip()\n",
    "    return produto\n",
    "    #print('Produto {} cadastrado com sucesso'.format(produto))"
   ]
  },
  {
   "cell_type": "code",
   "execution_count": 14,
   "id": "6cc44285-5772-4b68-aeef-6ea5b2183bc8",
   "metadata": {},
   "outputs": [
    {
     "name": "stdin",
     "output_type": "stream",
     "text": [
      "Digite o nome do produto que deseja cadastrar FeiJao\n"
     ]
    },
    {
     "name": "stdout",
     "output_type": "stream",
     "text": [
      "feijao\n"
     ]
    }
   ],
   "source": [
    "variavel_produto = cadastrar_produto()\n",
    "\n",
    "print(variavel_produto)"
   ]
  },
  {
   "cell_type": "markdown",
   "id": "44ac13fb-ac67-48eb-bb9d-6964947dd16c",
   "metadata": {},
   "source": [
    "# Argumentos/Parâmetros da Função\n",
    "\n",
    "### Estrutura:"
   ]
  },
  {
   "cell_type": "code",
   "execution_count": 17,
   "id": "74a3fee6-d014-4587-b5f6-fc69113859be",
   "metadata": {},
   "outputs": [],
   "source": [
    "def minha_funcao(parametro1, parametro2, parametro3):\n",
    "    return parametro1 + parametro2, + parametro3"
   ]
  },
  {
   "cell_type": "markdown",
   "id": "368179d0-10b1-4135-9346-1f20417f703a",
   "metadata": {},
   "source": [
    "    . Exemplo: nosso famoso print"
   ]
  },
  {
   "cell_type": "code",
   "execution_count": 20,
   "id": "f977784b-80c7-4e4e-9892-7c9394b1b5f7",
   "metadata": {},
   "outputs": [
    {
     "name": "stdout",
     "output_type": "stream",
     "text": [
      "Prodduto Iphone vendas 50\n"
     ]
    }
   ],
   "source": [
    "vendas = 50\n",
    "print('Prodduto', 'Iphone', 'vendas', vendas)"
   ]
  },
  {
   "cell_type": "markdown",
   "id": "b9ad6e6f-073d-4592-9fae-74d157e528fe",
   "metadata": {},
   "source": [
    "    . Só para mostrar o funcionamento, vamos criar uma função de soma "
   ]
  },
  {
   "cell_type": "code",
   "execution_count": 24,
   "id": "ad7db5a1-1866-40da-8464-12cef58029d6",
   "metadata": {},
   "outputs": [
    {
     "name": "stdout",
     "output_type": "stream",
     "text": [
      "60\n"
     ]
    }
   ],
   "source": [
    "def minha_soma(num1, num2, num3):\n",
    "    return num1 + num2 + num3\n",
    "\n",
    "soma = minha_soma(10, 20, 30)\n",
    "\n",
    "print(soma)"
   ]
  },
  {
   "cell_type": "code",
   "execution_count": 28,
   "id": "7610c50e-6041-4eaf-a4f6-e1ca6c8f9be1",
   "metadata": {},
   "outputs": [
    {
     "name": "stdout",
     "output_type": "stream",
     "text": [
      "Enviar beb46275 para setor de bebidas alcoolicas\n",
      "Enviar BEB21365 para setor de bebidas alcoolicas\n",
      "Enviar BEB31623 para setor de bebidas alcoolicas\n",
      "Enviar BEB73344 para setor de bebidas alcoolicas\n",
      "Enviar BEB80694 para setor de bebidas alcoolicas\n",
      "Enviar BEB19495 para setor de bebidas alcoolicas\n",
      "Enviar BEB97471 para setor de bebidas alcoolicas\n",
      "Enviar BEB62362 para setor de bebidas alcoolicas\n",
      "Enviar BEB85146 para setor de bebidas alcoolicas\n",
      "Enviar BEB48898 para setor de bebidas alcoolicas\n",
      "Enviar BEB79496 para setor de bebidas alcoolicas\n",
      "Enviar BEB15385 para setor de bebidas alcoolicas\n",
      "Enviar BEB24213 para setor de bebidas alcoolicas\n",
      "Enviar BEB56262 para setor de bebidas alcoolicas\n",
      "Enviar BEB75073 para setor de bebidas alcoolicas\n"
     ]
    }
   ],
   "source": [
    "def ehalcoolico(bebida):\n",
    "    bebida = bebida.upper()\n",
    "    if 'BEB' in bebida:\n",
    "        return True\n",
    "    else:\n",
    "        return False \n",
    "\n",
    "    \n",
    "produtos = ['beb46275','TFA23962','TFA64715','TFA69555','TFA56743','BSA45510','TFA44968','CAR75448','CAR23596','CAR13490','BEB21365','BEB31623','BSA62419','BEB73344','TFA20079','BEB80694','BSA11769','BEB19495','TFA14792','TFA78043','BSA33484','BEB97471','BEB62362','TFA27311','TFA17715','BEB85146','BEB48898','BEB79496','CAR38417','TFA19947','TFA58799','CAR94811','BSA59251','BEB15385','BEB24213','BEB56262','BSA96915','CAR53454','BEB75073']\n",
    "for produto in produtos:\n",
    "    if ehalcoolico(produto):\n",
    "        print('Enviar {} para setor de bebidas alcoolicas'.format(produto))"
   ]
  },
  {
   "cell_type": "code",
   "execution_count": null,
   "id": "8d1efdea-5963-47d6-853a-1315188aa2c0",
   "metadata": {},
   "outputs": [],
   "source": []
  }
 ],
 "metadata": {
  "kernelspec": {
   "display_name": "Python 3 (ipykernel)",
   "language": "python",
   "name": "python3"
  },
  "language_info": {
   "codemirror_mode": {
    "name": "ipython",
    "version": 3
   },
   "file_extension": ".py",
   "mimetype": "text/x-python",
   "name": "python",
   "nbconvert_exporter": "python",
   "pygments_lexer": "ipython3",
   "version": "3.12.4"
  }
 },
 "nbformat": 4,
 "nbformat_minor": 5
}
