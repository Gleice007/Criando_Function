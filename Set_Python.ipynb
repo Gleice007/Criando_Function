{
 "cells": [
  {
   "cell_type": "code",
   "execution_count": 1,
   "id": "433fd9a9-9f58-43ea-a62b-d473d7196c65",
   "metadata": {},
   "outputs": [
    {
     "name": "stdout",
     "output_type": "stream",
     "text": [
      "{'arroz', 'macarrao', 'feijao', 'azeite', 'atum'}\n"
     ]
    }
   ],
   "source": [
    "set_produtos = {'arroz', 'feijao', 'macarrao', 'atum', 'azeite'}\n",
    "\n",
    "print(set_produtos)"
   ]
  },
  {
   "cell_type": "code",
   "execution_count": 5,
   "id": "fc896ab1-be9a-4f2c-b2a8-0acb4e58860a",
   "metadata": {},
   "outputs": [
    {
     "name": "stdout",
     "output_type": "stream",
     "text": [
      "['990.236.770-48', '892.080.930-50', '870.565.160-33', '988.305.810-11', '762.196.080-97', '393.462.330-10', '596.125.830-05', '925.413.640-91', '263.027.380-67', '462.126.030-81', '827.363.930-40']\n",
      " Temos 11 clientes na loja\n"
     ]
    }
   ],
   "source": [
    "cpf_clientes = ['762.196.080-97', '263.027.380-67', '827.363.930-40', '925.413.640-91', '870.565.160-33', '892.080.930-50', '462.126.030-81', '393.462.330-10', '393.462.330-10', '393.462.330-10', '988.305.810-11', '596.125.830-05', '596.125.830-05', '990.236.770-48']\n",
    "\n",
    "set_cpf_clientes = set(cpf_clientes)\n",
    "cpf_clientes_unicos = list(set_cpf_clientes)\n",
    "print(cpf_clientes_unicos)\n",
    "print(' Temos {} clientes na loja'.format(len(set_cpf_clientes)))"
   ]
  },
  {
   "cell_type": "code",
   "execution_count": null,
   "id": "4ad8eba7-00d1-43d5-bf87-1b273d897ae3",
   "metadata": {},
   "outputs": [],
   "source": []
  }
 ],
 "metadata": {
  "kernelspec": {
   "display_name": "Python 3 (ipykernel)",
   "language": "python",
   "name": "python3"
  },
  "language_info": {
   "codemirror_mode": {
    "name": "ipython",
    "version": 3
   },
   "file_extension": ".py",
   "mimetype": "text/x-python",
   "name": "python",
   "nbconvert_exporter": "python",
   "pygments_lexer": "ipython3",
   "version": "3.12.4"
  }
 },
 "nbformat": 4,
 "nbformat_minor": 5
}
